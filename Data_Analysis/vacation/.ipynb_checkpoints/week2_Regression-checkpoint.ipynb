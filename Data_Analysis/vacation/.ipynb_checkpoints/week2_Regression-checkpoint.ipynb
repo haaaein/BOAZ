{
 "cells": [
  {
   "cell_type": "markdown",
   "id": "bdd544d7",
   "metadata": {},
   "source": [
    "## 1. 선형회귀"
   ]
  },
  {
   "cell_type": "markdown",
   "id": "c9ba5028",
   "metadata": {},
   "source": [
    "### 배달 거리와 시간 데이터로 배달 시간 예측하는 모델 만들어보기"
   ]
  },
  {
   "cell_type": "code",
   "execution_count": 18,
   "id": "d50adafd",
   "metadata": {},
   "outputs": [],
   "source": [
    "from sklearn.linear_model import LinearRegression\n",
    "import pandas as pd\n",
    "import numpy as np\n",
    "import matplotlib.pyplot as plt"
   ]
  },
  {
   "cell_type": "code",
   "execution_count": 3,
   "id": "94cf22f8",
   "metadata": {},
   "outputs": [],
   "source": [
    "#배달 거리 단위: m, 배달 시간 단위: min\n",
    "data = np.array([[100, 20], \n",
    "        [150, 24], \n",
    "        [300, 36], \n",
    "        [400, 47], \n",
    "        [130, 22], \n",
    "        [240, 32],\n",
    "        [350, 47], \n",
    "        [200, 42], \n",
    "        [100, 21], \n",
    "        [110, 21], \n",
    "        [190, 30], \n",
    "        [120, 25], \n",
    "        [130, 18], \n",
    "        [270, 38], \n",
    "        [255, 28]]) "
   ]
  },
  {
   "cell_type": "code",
   "execution_count": 45,
   "id": "eba7476b",
   "metadata": {},
   "outputs": [
    {
     "name": "stdout",
     "output_type": "stream",
     "text": [
      "평균 배달 거리:  203.0\n",
      "평균 배달 시간:  30.066666666666666\n"
     ]
    }
   ],
   "source": [
    "x = [i[0] for i in data]\n",
    "y = [i[1] for i in data]\n",
    "\n",
    "#x와 y의 평균값\n",
    "mx = np.mean(x)\n",
    "my = np.mean(y)\n",
    "\n",
    "print(\"평균 배달 거리: \", mx)\n",
    "print(\"평균 배달 시간: \", my)"
   ]
  },
  {
   "cell_type": "code",
   "execution_count": 46,
   "id": "06d485a1",
   "metadata": {},
   "outputs": [
    {
     "data": {
      "image/png": "[encoded data removed]",
      "text/plain": [
       "<Figure size 432x288 with 1 Axes>"
      ]
     },
     "metadata": {
      "needs_background": "light"
     },
     "output_type": "display_data"
    }
   ],
   "source": [
    "plt.scatter(data[:, 0], data[:, 1]) \n",
    "plt.title(\"Time / Distance\")\n",
    "plt.xlabel(\"Delivery Distance (meter)\")\n",
    "plt.ylabel(\"Time Consumed (minute)\")\n",
    "plt.axis([0, 420, 0, 50])\n",
    "plt.show() "
   ]
  },
  {
   "cell_type": "markdown",
   "id": "aab6bede",
   "metadata": {},
   "source": [
    "### 거리가 늘어남에 따라 시간도 비슷한 속도로 늘어나는 것을 볼 수 있다."
   ]
  },
  {
   "cell_type": "code",
   "execution_count": 9,
   "id": "68e0ce09",
   "metadata": {},
   "outputs": [],
   "source": [
    "#기울기 공식의 분모\n",
    "divisor = sum([(mx - i) **2 for i in x])"
   ]
  },
  {
   "cell_type": "code",
   "execution_count": 10,
   "id": "05e03ea0",
   "metadata": {},
   "outputs": [],
   "source": [
    "#기울기 공식의 분자\n",
    "def top(x, mx, y, my):\n",
    "    d = 0\n",
    "    for i in range(len(x)):\n",
    "        d += (x[i] - mx) * (y[i] - my)\n",
    "    return d\n",
    "dividend = top(x, mx, y, my)"
   ]
  },
  {
   "cell_type": "code",
   "execution_count": 11,
   "id": "40dd40e0",
   "metadata": {},
   "outputs": [
    {
     "name": "stdout",
     "output_type": "stream",
     "text": [
      "분모:  128790.0\n",
      "분자:  11887.000000000002\n"
     ]
    }
   ],
   "source": [
    "print(\"분모: \", divisor)\n",
    "print(\"분자: \", dividend)"
   ]
  },
  {
   "cell_type": "code",
   "execution_count": 14,
   "id": "63861463",
   "metadata": {},
   "outputs": [
    {
     "name": "stdout",
     "output_type": "stream",
     "text": [
      "기울기 a =  0.09229753862877554\n",
      "y 절편 b =  11.330266325025232\n"
     ]
    }
   ],
   "source": [
    "#기울기와 y 절편 구하기\n",
    "a = dividend / divisor\n",
    "b = my - (mx * a)\n",
    "\n",
    "print(\"기울기 a = \", a)\n",
    "print(\"y 절편 b = \", b)"
   ]
  },
  {
   "cell_type": "code",
   "execution_count": 35,
   "id": "0d127fe4",
   "metadata": {},
   "outputs": [
    {
     "data": {
      "text/plain": [
       "LinearRegression()"
      ]
     },
     "execution_count": 35,
     "metadata": {},
     "output_type": "execute_result"
    }
   ],
   "source": [
    "x = np.array(x)\n",
    "y = np.array(y)\n",
    "\n",
    "model = LinearRegression()\n",
    "model.fit(x.reshape(-1, 1), y)"
   ]
  },
  {
   "cell_type": "code",
   "execution_count": 39,
   "id": "8cbb734a",
   "metadata": {},
   "outputs": [
    {
     "data": {
      "text/plain": [
       "array([57.47903564])"
      ]
     },
     "execution_count": 39,
     "metadata": {},
     "output_type": "execute_result"
    }
   ],
   "source": [
    "model.predict([[500]])"
   ]
  },
  {
   "cell_type": "markdown",
   "id": "78f29d17",
   "metadata": {},
   "source": [
    "### 거리가 500m 일때 예상 배달 시간은 57분으로 나타난다."
   ]
  },
  {
   "cell_type": "code",
   "execution_count": 44,
   "id": "0acaaaf8",
   "metadata": {},
   "outputs": [
    {
     "data": {
      "image/png": "[encoded data removed]",
      "text/plain": [
       "<Figure size 432x288 with 1 Axes>"
      ]
     },
     "metadata": {
      "needs_background": "light"
     },
     "output_type": "display_data"
    }
   ],
   "source": [
    "plt.plot(x, y, 'o')\n",
    "plt.plot(x, model.predict(x.reshape(-1,1)))\n",
    "plt.show()"
   ]
  },
  {
   "cell_type": "markdown",
   "id": "d30c3d01",
   "metadata": {},
   "source": [
    "### 거리에 따른 예측되는 배달 시간을 선으로 표시하여 그래프에 나타내었다."
   ]
  },
  {
   "cell_type": "markdown",
   "id": "6c3d1fd3",
   "metadata": {},
   "source": [
    "## 2. 다중선형회귀 \n",
    "### 실업률과 이자율을 통해 경제의 주가 지수 예측하기"
   ]
  },
  {
   "cell_type": "code",
   "execution_count": 64,
   "id": "36c1592b",
   "metadata": {},
   "outputs": [
    {
     "name": "stdout",
     "output_type": "stream",
     "text": [
      "    Year  Month  Interest_Rate  Unemployment_Rate  Stock_Index_Price\n",
      "0   2017     12           2.75                5.3               1464\n",
      "1   2017     11           2.50                5.3               1394\n",
      "2   2017     10           2.50                5.3               1357\n",
      "3   2017      9           2.50                5.3               1293\n",
      "4   2017      8           2.50                5.4               1256\n",
      "5   2017      7           2.50                5.6               1254\n",
      "6   2017      6           2.50                5.5               1234\n",
      "7   2017      5           2.25                5.5               1195\n",
      "8   2017      4           2.25                5.5               1159\n",
      "9   2017      3           2.25                5.6               1167\n",
      "10  2017      2           2.00                5.7               1130\n",
      "11  2017      1           2.00                5.9               1075\n",
      "12  2016     12           2.00                6.0               1047\n",
      "13  2016     11           1.75                5.9                965\n",
      "14  2016     10           1.75                5.8                943\n",
      "15  2016      9           1.75                6.1                958\n",
      "16  2016      8           1.75                6.2                971\n",
      "17  2016      7           1.75                6.1                949\n",
      "18  2016      6           1.75                6.1                884\n",
      "19  2016      5           1.75                6.1                866\n",
      "20  2016      4           1.75                5.9                876\n",
      "21  2016      3           1.75                6.2                822\n",
      "22  2016      2           1.75                6.2                704\n",
      "23  2016      1           1.75                6.1                719\n"
     ]
    }
   ],
   "source": [
    "import pandas as pd\n",
    "\n",
    "Stock_Market = {'Year': [2017,2017,2017,2017,2017,2017,2017,2017,2017,2017,2017,2017,2016,2016,2016,2016,2016,2016,2016,2016,2016,2016,2016,2016],\n",
    "                'Month': [12, 11,10,9,8,7,6,5,4,3,2,1,12,11,10,9,8,7,6,5,4,3,2,1],\n",
    "                'Interest_Rate': [2.75,2.5,2.5,2.5,2.5,2.5,2.5,2.25,2.25,2.25,2,2,2,1.75,1.75,1.75,1.75,1.75,1.75,1.75,1.75,1.75,1.75,1.75],\n",
    "                'Unemployment_Rate': [5.3,5.3,5.3,5.3,5.4,5.6,5.5,5.5,5.5,5.6,5.7,5.9,6,5.9,5.8,6.1,6.2,6.1,6.1,6.1,5.9,6.2,6.2,6.1],\n",
    "                'Stock_Index_Price': [1464,1394,1357,1293,1256,1254,1234,1195,1159,1167,1130,1075,1047,965,943,958,971,949,884,866,876,822,704,719]        \n",
    "                }\n",
    "\n",
    "df = pd.DataFrame(Stock_Market,columns=['Year','Month','Interest_Rate','Unemployment_Rate','Stock_Index_Price']) \n",
    "\n",
    "print (df)"
   ]
  },
  {
   "cell_type": "code",
   "execution_count": 65,
   "id": "4f12e9fa",
   "metadata": {},
   "outputs": [
    {
     "data": {
      "image/png": "[encoded data removed]",
      "text/plain": [
       "<Figure size 432x288 with 1 Axes>"
      ]
     },
     "metadata": {
      "needs_background": "light"
     },
     "output_type": "display_data"
    }
   ],
   "source": [
    "plt.scatter(df['Interest_Rate'], df['Stock_Index_Price'], color='red')\n",
    "plt.title('Stock Index Price Vs Interest Rate', fontsize=14)\n",
    "plt.xlabel('Interest Rate', fontsize=14)\n",
    "plt.ylabel('Stock Index Price', fontsize=14)\n",
    "plt.grid(True)\n",
    "plt.show()"
   ]
  },
  {
   "cell_type": "markdown",
   "id": "9b93f8a7",
   "metadata": {},
   "source": [
    "Stock_Index_Price와 Interest_Rate 사이에는 실제로 선형 관계가 존재한다는 것을 알 수 있다. \n",
    "\n",
    "특히, 금리가 오르면 주가지수도 상승한다."
   ]
  },
  {
   "cell_type": "code",
   "execution_count": 66,
   "id": "ee9a6194",
   "metadata": {},
   "outputs": [
    {
     "data": {
      "image/png": "[encoded data removed]",
      "text/plain": [
       "<Figure size 432x288 with 1 Axes>"
      ]
     },
     "metadata": {
      "needs_background": "light"
     },
     "output_type": "display_data"
    }
   ],
   "source": [
    "plt.scatter(df['Unemployment_Rate'], df['Stock_Index_Price'], color='green')\n",
    "plt.title('Stock Index Price Vs Unemployment Rate', fontsize=14)\n",
    "plt.xlabel('Unemployment Rate', fontsize=14)\n",
    "plt.ylabel('Stock Index Price', fontsize=14)\n",
    "plt.grid(True)\n",
    "plt.show()"
   ]
  },
  {
   "cell_type": "markdown",
   "id": "a35df6e7",
   "metadata": {},
   "source": [
    "Stock_Index_Price와 Unemployment_Rate 사이에도 선형 관계가 존재한다. \n",
    "\n",
    "실업률이 올라가면 주가 지수 가격은 내려간다(여기서는 여전히 선형 관계이지만 음의 기울기를 가짐)."
   ]
  },
  {
   "cell_type": "code",
   "execution_count": 73,
   "id": "54499d83",
   "metadata": {},
   "outputs": [
    {
     "name": "stdout",
     "output_type": "stream",
     "text": [
      "절편:  1798.403977625855\n",
      "기울기:  [ 345.54008701 -250.14657137]\n",
      "Predicted Stock Index Price:  [1422.86238865]\n"
     ]
    }
   ],
   "source": [
    "from sklearn import linear_model\n",
    "import statsmodels.api as sm\n",
    "\n",
    "X = df[['Interest_Rate','Unemployment_Rate']] \n",
    "Y = df['Stock_Index_Price']\n",
    " \n",
    "# with sklearn\n",
    "model = linear_model.LinearRegression()\n",
    "model.fit(X, Y)\n",
    "\n",
    "print('절편: ', model.intercept_)\n",
    "print('기울기: ', model.coef_)\n",
    "\n",
    "# prediction with sklearn\n",
    "New_Interest_Rate = 2.75\n",
    "New_Unemployment_Rate = 5.3\n",
    "print ('Predicted Stock Index Price: ', model.predict([[New_Interest_Rate ,New_Unemployment_Rate]]))"
   ]
  },
  {
   "cell_type": "markdown",
   "id": "cafe7845",
   "metadata": {},
   "source": [
    "## 3. 로지스틱회귀"
   ]
  },
  {
   "cell_type": "markdown",
   "id": "39297757",
   "metadata": {},
   "source": [
    "### 공부시간을 통해 합격 여부 예측하기"
   ]
  },
  {
   "cell_type": "code",
   "execution_count": 95,
   "id": "9925ebee",
   "metadata": {},
   "outputs": [
    {
     "name": "stdout",
     "output_type": "stream",
     "text": [
      "epoch=0, 기울기=0.0848, 절편=0.0015\n",
      "Error value:0.4166\n",
      "epoch=1000, 기울기=0.6718, 절편=-0.2677\n",
      "Error value:0.4617\n",
      "epoch=2000, 기울기=-0.0122, 절편=-0.3896\n",
      "Error value:0.3188\n",
      "epoch=3000, 기울기=-0.1714, 절편=-0.4679\n",
      "Error value:0.5042\n",
      "epoch=4000, 기울기=-0.0225, 절편=-0.5047\n",
      "Error value:0.3777\n",
      "epoch=5000, 기울기=-0.4076, 절편=-0.5233\n",
      "Error value:0.5166\n",
      "epoch=6000, 기울기=-0.2040, 절편=-0.5318\n",
      "Error value:0.5081\n",
      "epoch=7000, 기울기=1.1734, 절편=-0.4984\n",
      "Error value:0.4650\n",
      "epoch=8000, 기울기=0.9214, 절편=-0.5217\n",
      "Error value:0.4637\n",
      "epoch=9000, 기울기=-0.1923, 절편=-0.5598\n",
      "Error value:0.5075\n",
      "epoch=10000, 기울기=-0.6465, 절편=-0.5583\n",
      "Error value:0.5215\n"
     ]
    },
    {
     "data": {
      "image/png": "[encoded data removed]",
      "text/plain": [
       "<Figure size 432x288 with 1 Axes>"
      ]
     },
     "metadata": {
      "needs_background": "light"
     },
     "output_type": "display_data"
    },
    {
     "name": "stdout",
     "output_type": "stream",
     "text": [
      "Input : 72.0, Real : 0.0, Expect: 0.0000\n",
      "Input : 67.0, Real : 1.0, Expect: 0.0000\n",
      "Input : 80.0, Real : 1.0, Expect: 0.0000\n",
      "Input : 4.0, Real : 0.0, Expect: 0.0413\n",
      "Input : 86.0, Real : 0.0, Expect: 0.0000\n",
      "Input : 30.0, Real : 0.0, Expect: 0.0000\n",
      "Input : 70.0, Real : 1.0, Expect: 0.0000\n",
      "Input : 94.0, Real : 1.0, Expect: 0.0000\n",
      "Input : 51.0, Real : 0.0, Expect: 0.0000\n",
      "Input : 37.0, Real : 0.0, Expect: 0.0000\n"
     ]
    }
   ],
   "source": [
    "import numpy as np\n",
    "import pandas as pd\n",
    "import matplotlib.pyplot as plt\n",
    "\n",
    "import random\n",
    "\n",
    "x = [random.randint(1,100) for i in range(100)] # 1부터 100까지의 공부시간을 x 데이터로 만든다.\n",
    "y = [random.randint(0,1) for i in range(100)] # 합격여부\n",
    "\n",
    "x_data = np.array(x)\n",
    "y_data = np.array(y)\n",
    "\n",
    "a = 0\n",
    "b = 0\n",
    "lr = 0.05\n",
    "loss = []\n",
    "\n",
    "def sigmoid(x):\n",
    "    return 1 / (1 + np.e ** (-x))\n",
    "\n",
    "#경사 하강법\n",
    "for i in range(10001):\n",
    "    a_diff = (1/len(x_data))*sum(x_data*(sigmoid(a*x_data + b) - y_data)) \n",
    "    b_diff = (1/len(x_data))*sum(sigmoid(a*x_data + b) - y_data)\n",
    "    a = a - lr * a_diff\n",
    "    b = b - lr * b_diff\n",
    "    y_hat = sigmoid(a * x_data + b)\n",
    "    error = y_data - y_hat\n",
    "    mse = (error ** 2).mean()\n",
    "    loss.append(mse)\n",
    "    if i % 1000 == 0:    \n",
    "        print(\"epoch=%.f, 기울기=%.04f, 절편=%.04f\" % (i, a, b))\n",
    "        print(\"Error value:%.4f\" % (mse))\n",
    "\n",
    "#결과 출력\n",
    "plt.scatter(x_data, y_data)\n",
    "plt.xlim(0, 15)\n",
    "plt.ylim(-.1, 1.1)\n",
    "x_range = (np.arange(0, 15, 0.1)) \n",
    "plt.plot(np.arange(0, 15, 0.1), np.array([sigmoid(a*x + b) for x in x_range]))\n",
    "plt.show()\n",
    "\n",
    "for i in range(x_data.shape[0]):\n",
    "    if i % 10 == 0:\n",
    "        print(\"Input : %.1f, Real : %.1f, Expect: %.4f\" % (x_data[i], y_data[i], sigmoid(a * x_data[i] + b)))"
   ]
  },
  {
   "cell_type": "code",
   "execution_count": 94,
   "id": "bfb06c39",
   "metadata": {},
   "outputs": [
    {
     "name": "stdout",
     "output_type": "stream",
     "text": [
      "Epoch 1/200\n",
      "1/1 [==============================] - 0s 286ms/step - loss: 0.8434 - accuracy: 0.6667\n",
      "Epoch 2/200\n",
      "1/1 [==============================] - 0s 1ms/step - loss: 0.8334 - accuracy: 0.6667\n",
      "Epoch 3/200\n",
      "1/1 [==============================] - 0s 2ms/step - loss: 0.8236 - accuracy: 0.6667\n",
      "Epoch 4/200\n",
      "1/1 [==============================] - 0s 1ms/step - loss: 0.8138 - accuracy: 0.6667\n",
      "Epoch 5/200\n",
      "1/1 [==============================] - 0s 2ms/step - loss: 0.8041 - accuracy: 0.6667\n",
      "Epoch 6/200\n",
      "1/1 [==============================] - 0s 2ms/step - loss: 0.7947 - accuracy: 0.6667\n",
      "Epoch 7/200\n",
      "1/1 [==============================] - 0s 2ms/step - loss: 0.7854 - accuracy: 0.6667\n",
      "Epoch 8/200\n",
      "1/1 [==============================] - 0s 2ms/step - loss: 0.7777 - accuracy: 0.6667\n",
      "Epoch 9/200\n",
      "1/1 [==============================] - 0s 2ms/step - loss: 0.7715 - accuracy: 0.6667\n",
      "Epoch 10/200\n",
      "1/1 [==============================] - 0s 2ms/step - loss: 0.7655 - accuracy: 0.6667\n",
      "Epoch 11/200\n",
      "1/1 [==============================] - 0s 3ms/step - loss: 0.7598 - accuracy: 0.6667\n",
      "Epoch 12/200\n",
      "1/1 [==============================] - 0s 2ms/step - loss: 0.7542 - accuracy: 0.6667\n",
      "Epoch 13/200\n",
      "1/1 [==============================] - 0s 2ms/step - loss: 0.7489 - accuracy: 0.6667\n",
      "Epoch 14/200\n",
      "1/1 [==============================] - 0s 2ms/step - loss: 0.7455 - accuracy: 0.6667\n",
      "Epoch 15/200\n",
      "1/1 [==============================] - 0s 2ms/step - loss: 0.7434 - accuracy: 0.6667\n",
      "Epoch 16/200\n",
      "1/1 [==============================] - 0s 2ms/step - loss: 0.7414 - accuracy: 0.6667\n",
      "Epoch 17/200\n",
      "1/1 [==============================] - 0s 2ms/step - loss: 0.7390 - accuracy: 0.6667\n",
      "Epoch 18/200\n",
      "1/1 [==============================] - 0s 2ms/step - loss: 0.7365 - accuracy: 0.6667\n",
      "Epoch 19/200\n",
      "1/1 [==============================] - 0s 3ms/step - loss: 0.7340 - accuracy: 0.6667\n",
      "Epoch 20/200\n",
      "1/1 [==============================] - 0s 3ms/step - loss: 0.7315 - accuracy: 0.6667\n",
      "Epoch 21/200\n",
      "1/1 [==============================] - 0s 2ms/step - loss: 0.7290 - accuracy: 0.6667\n",
      "Epoch 22/200\n",
      "1/1 [==============================] - 0s 2ms/step - loss: 0.7266 - accuracy: 0.6667\n",
      "Epoch 23/200\n",
      "1/1 [==============================] - 0s 2ms/step - loss: 0.7242 - accuracy: 0.6667\n",
      "Epoch 24/200\n",
      "1/1 [==============================] - 0s 2ms/step - loss: 0.7218 - accuracy: 0.6667\n",
      "Epoch 25/200\n",
      "1/1 [==============================] - 0s 2ms/step - loss: 0.7194 - accuracy: 0.6667\n",
      "Epoch 26/200\n",
      "1/1 [==============================] - 0s 3ms/step - loss: 0.7172 - accuracy: 0.6667\n",
      "Epoch 27/200\n",
      "1/1 [==============================] - 0s 2ms/step - loss: 0.7149 - accuracy: 0.6667\n",
      "Epoch 28/200\n",
      "1/1 [==============================] - 0s 2ms/step - loss: 0.7128 - accuracy: 0.6667\n",
      "Epoch 29/200\n",
      "1/1 [==============================] - 0s 2ms/step - loss: 0.7107 - accuracy: 0.6667\n",
      "Epoch 30/200\n",
      "1/1 [==============================] - 0s 2ms/step - loss: 0.7086 - accuracy: 0.6667\n",
      "Epoch 31/200\n",
      "1/1 [==============================] - 0s 2ms/step - loss: 0.7066 - accuracy: 0.6667\n",
      "Epoch 32/200\n",
      "1/1 [==============================] - 0s 2ms/step - loss: 0.7047 - accuracy: 0.6667\n",
      "Epoch 33/200\n",
      "1/1 [==============================] - 0s 2ms/step - loss: 0.7028 - accuracy: 0.6667\n",
      "Epoch 34/200\n",
      "1/1 [==============================] - 0s 2ms/step - loss: 0.7010 - accuracy: 0.6667\n",
      "Epoch 35/200\n",
      "1/1 [==============================] - 0s 2ms/step - loss: 0.6992 - accuracy: 0.6667\n",
      "Epoch 36/200\n",
      "1/1 [==============================] - 0s 2ms/step - loss: 0.6975 - accuracy: 0.6667\n",
      "Epoch 37/200\n",
      "1/1 [==============================] - 0s 2ms/step - loss: 0.6958 - accuracy: 0.6667\n",
      "Epoch 38/200\n",
      "1/1 [==============================] - 0s 2ms/step - loss: 0.6942 - accuracy: 0.6667\n",
      "Epoch 39/200\n",
      "1/1 [==============================] - 0s 2ms/step - loss: 0.6926 - accuracy: 0.6667\n",
      "Epoch 40/200\n",
      "1/1 [==============================] - 0s 2ms/step - loss: 0.6912 - accuracy: 0.6667\n",
      "Epoch 41/200\n",
      "1/1 [==============================] - 0s 2ms/step - loss: 0.6897 - accuracy: 0.6667\n",
      "Epoch 42/200\n",
      "1/1 [==============================] - 0s 2ms/step - loss: 0.6884 - accuracy: 0.6667\n",
      "Epoch 43/200\n",
      "1/1 [==============================] - 0s 2ms/step - loss: 0.6870 - accuracy: 0.6667\n",
      "Epoch 44/200\n",
      "1/1 [==============================] - 0s 2ms/step - loss: 0.6857 - accuracy: 0.6667\n",
      "Epoch 45/200\n",
      "1/1 [==============================] - 0s 2ms/step - loss: 0.6848 - accuracy: 0.6667\n",
      "Epoch 46/200\n",
      "1/1 [==============================] - 0s 2ms/step - loss: 0.6841 - accuracy: 0.6667\n",
      "Epoch 47/200\n",
      "1/1 [==============================] - 0s 2ms/step - loss: 0.6828 - accuracy: 0.6667\n",
      "Epoch 48/200\n",
      "1/1 [==============================] - 0s 2ms/step - loss: 0.6809 - accuracy: 0.6667\n",
      "Epoch 49/200\n",
      "1/1 [==============================] - 0s 2ms/step - loss: 0.6781 - accuracy: 0.6667\n",
      "Epoch 50/200\n",
      "1/1 [==============================] - 0s 2ms/step - loss: 0.6751 - accuracy: 0.6667\n",
      "Epoch 51/200\n",
      "1/1 [==============================] - 0s 2ms/step - loss: 0.6719 - accuracy: 0.6667\n",
      "Epoch 52/200\n",
      "1/1 [==============================] - 0s 2ms/step - loss: 0.6684 - accuracy: 0.6667\n",
      "Epoch 53/200\n",
      "1/1 [==============================] - 0s 2ms/step - loss: 0.6649 - accuracy: 0.6667\n",
      "Epoch 54/200\n",
      "1/1 [==============================] - 0s 2ms/step - loss: 0.6613 - accuracy: 0.6667\n",
      "Epoch 55/200\n",
      "1/1 [==============================] - 0s 3ms/step - loss: 0.6578 - accuracy: 0.6667\n",
      "Epoch 56/200\n",
      "1/1 [==============================] - 0s 3ms/step - loss: 0.6546 - accuracy: 0.6667\n",
      "Epoch 57/200\n",
      "1/1 [==============================] - 0s 3ms/step - loss: 0.6515 - accuracy: 0.6667\n",
      "Epoch 58/200\n",
      "1/1 [==============================] - 0s 2ms/step - loss: 0.6501 - accuracy: 0.6667\n",
      "Epoch 59/200\n",
      "1/1 [==============================] - 0s 4ms/step - loss: 0.6487 - accuracy: 0.6667\n",
      "Epoch 60/200\n",
      "1/1 [==============================] - 0s 5ms/step - loss: 0.6472 - accuracy: 0.6667\n",
      "Epoch 61/200\n",
      "1/1 [==============================] - 0s 4ms/step - loss: 0.6458 - accuracy: 0.6667\n",
      "Epoch 62/200\n",
      "1/1 [==============================] - 0s 3ms/step - loss: 0.6436 - accuracy: 0.6667\n",
      "Epoch 63/200\n",
      "1/1 [==============================] - 0s 4ms/step - loss: 0.6415 - accuracy: 0.6667\n",
      "Epoch 64/200\n",
      "1/1 [==============================] - 0s 5ms/step - loss: 0.6393 - accuracy: 0.6667\n",
      "Epoch 65/200\n",
      "1/1 [==============================] - 0s 5ms/step - loss: 0.6397 - accuracy: 0.6667\n",
      "Epoch 66/200\n",
      "1/1 [==============================] - 0s 7ms/step - loss: 0.6403 - accuracy: 0.6667\n",
      "Epoch 67/200\n",
      "1/1 [==============================] - 0s 3ms/step - loss: 0.6399 - accuracy: 0.6667\n",
      "Epoch 68/200\n",
      "1/1 [==============================] - 0s 3ms/step - loss: 0.6388 - accuracy: 0.6667\n",
      "Epoch 69/200\n",
      "1/1 [==============================] - 0s 3ms/step - loss: 0.6385 - accuracy: 0.6667\n",
      "Epoch 70/200\n",
      "1/1 [==============================] - 0s 2ms/step - loss: 0.6383 - accuracy: 0.6667\n",
      "Epoch 71/200\n",
      "1/1 [==============================] - 0s 2ms/step - loss: 0.6382 - accuracy: 0.6667\n",
      "Epoch 72/200\n",
      "1/1 [==============================] - 0s 2ms/step - loss: 0.6374 - accuracy: 0.6667\n",
      "Epoch 73/200\n",
      "1/1 [==============================] - 0s 2ms/step - loss: 0.6366 - accuracy: 0.6667\n",
      "Epoch 74/200\n",
      "1/1 [==============================] - 0s 3ms/step - loss: 0.6360 - accuracy: 0.6667\n",
      "Epoch 75/200\n",
      "1/1 [==============================] - 0s 2ms/step - loss: 0.6355 - accuracy: 0.6667\n",
      "Epoch 76/200\n",
      "1/1 [==============================] - 0s 3ms/step - loss: 0.6351 - accuracy: 0.6667\n",
      "Epoch 77/200\n",
      "1/1 [==============================] - 0s 3ms/step - loss: 0.6340 - accuracy: 0.6667\n",
      "Epoch 78/200\n",
      "1/1 [==============================] - 0s 4ms/step - loss: 0.6330 - accuracy: 0.6667\n",
      "Epoch 79/200\n",
      "1/1 [==============================] - ETA: 0s - loss: 0.6323 - accuracy: 0.66 - 0s 4ms/step - loss: 0.6323 - accuracy: 0.6667\n",
      "Epoch 80/200\n",
      "1/1 [==============================] - 0s 4ms/step - loss: 0.6315 - accuracy: 0.6667\n",
      "Epoch 81/200\n",
      "1/1 [==============================] - 0s 4ms/step - loss: 0.6306 - accuracy: 0.6667\n",
      "Epoch 82/200\n",
      "1/1 [==============================] - 0s 3ms/step - loss: 0.6297 - accuracy: 0.6667\n",
      "Epoch 83/200\n",
      "1/1 [==============================] - 0s 3ms/step - loss: 0.6289 - accuracy: 0.6667\n",
      "Epoch 84/200\n"
     ]
    },
    {
     "name": "stdout",
     "output_type": "stream",
     "text": [
      "1/1 [==============================] - 0s 3ms/step - loss: 0.6276 - accuracy: 0.6667\n",
      "Epoch 85/200\n",
      "1/1 [==============================] - 0s 3ms/step - loss: 0.6267 - accuracy: 0.6667\n",
      "Epoch 86/200\n",
      "1/1 [==============================] - 0s 3ms/step - loss: 0.6258 - accuracy: 0.6667\n",
      "Epoch 87/200\n",
      "1/1 [==============================] - 0s 3ms/step - loss: 0.6246 - accuracy: 0.6667\n",
      "Epoch 88/200\n",
      "1/1 [==============================] - 0s 2ms/step - loss: 0.6242 - accuracy: 0.6667\n",
      "Epoch 89/200\n",
      "1/1 [==============================] - 0s 2ms/step - loss: 0.6236 - accuracy: 0.6667\n",
      "Epoch 90/200\n",
      "1/1 [==============================] - 0s 3ms/step - loss: 0.6227 - accuracy: 0.6667\n",
      "Epoch 91/200\n",
      "1/1 [==============================] - 0s 3ms/step - loss: 0.6220 - accuracy: 0.6667\n",
      "Epoch 92/200\n",
      "1/1 [==============================] - 0s 3ms/step - loss: 0.6211 - accuracy: 0.6667\n",
      "Epoch 93/200\n",
      "1/1 [==============================] - 0s 3ms/step - loss: 0.6203 - accuracy: 0.6667\n",
      "Epoch 94/200\n",
      "1/1 [==============================] - 0s 3ms/step - loss: 0.6191 - accuracy: 0.6667\n",
      "Epoch 95/200\n",
      "1/1 [==============================] - 0s 3ms/step - loss: 0.6175 - accuracy: 0.6667\n",
      "Epoch 96/200\n",
      "1/1 [==============================] - 0s 3ms/step - loss: 0.6158 - accuracy: 0.6667\n",
      "Epoch 97/200\n",
      "1/1 [==============================] - 0s 3ms/step - loss: 0.6146 - accuracy: 0.6667\n",
      "Epoch 98/200\n",
      "1/1 [==============================] - 0s 2ms/step - loss: 0.6136 - accuracy: 0.6667\n",
      "Epoch 99/200\n",
      "1/1 [==============================] - 0s 2ms/step - loss: 0.6124 - accuracy: 0.6667\n",
      "Epoch 100/200\n",
      "1/1 [==============================] - 0s 3ms/step - loss: 0.6110 - accuracy: 0.6667\n",
      "Epoch 101/200\n",
      "1/1 [==============================] - 0s 2ms/step - loss: 0.6095 - accuracy: 0.6667\n",
      "Epoch 102/200\n",
      "1/1 [==============================] - 0s 2ms/step - loss: 0.6082 - accuracy: 0.6667\n",
      "Epoch 103/200\n",
      "1/1 [==============================] - 0s 2ms/step - loss: 0.6068 - accuracy: 0.6667\n",
      "Epoch 104/200\n",
      "1/1 [==============================] - 0s 2ms/step - loss: 0.6054 - accuracy: 0.6667\n",
      "Epoch 105/200\n",
      "1/1 [==============================] - 0s 2ms/step - loss: 0.6038 - accuracy: 0.6667\n",
      "Epoch 106/200\n",
      "1/1 [==============================] - 0s 3ms/step - loss: 0.6022 - accuracy: 0.6667\n",
      "Epoch 107/200\n",
      "1/1 [==============================] - 0s 3ms/step - loss: 0.6007 - accuracy: 0.6667\n",
      "Epoch 108/200\n",
      "1/1 [==============================] - 0s 3ms/step - loss: 0.5994 - accuracy: 0.6667\n",
      "Epoch 109/200\n",
      "1/1 [==============================] - 0s 3ms/step - loss: 0.5985 - accuracy: 0.6667\n",
      "Epoch 110/200\n",
      "1/1 [==============================] - 0s 2ms/step - loss: 0.5974 - accuracy: 0.6667\n",
      "Epoch 111/200\n",
      "1/1 [==============================] - 0s 3ms/step - loss: 0.5961 - accuracy: 0.6667\n",
      "Epoch 112/200\n",
      "1/1 [==============================] - 0s 2ms/step - loss: 0.5948 - accuracy: 0.6667\n",
      "Epoch 113/200\n",
      "1/1 [==============================] - 0s 3ms/step - loss: 0.5935 - accuracy: 0.6667\n",
      "Epoch 114/200\n",
      "1/1 [==============================] - 0s 2ms/step - loss: 0.5922 - accuracy: 0.6667\n",
      "Epoch 115/200\n",
      "1/1 [==============================] - 0s 2ms/step - loss: 0.5907 - accuracy: 0.6667\n",
      "Epoch 116/200\n",
      "1/1 [==============================] - 0s 2ms/step - loss: 0.5893 - accuracy: 0.6667\n",
      "Epoch 117/200\n",
      "1/1 [==============================] - 0s 3ms/step - loss: 0.5879 - accuracy: 0.6667\n",
      "Epoch 118/200\n",
      "1/1 [==============================] - 0s 3ms/step - loss: 0.5862 - accuracy: 0.6667\n",
      "Epoch 119/200\n",
      "1/1 [==============================] - 0s 2ms/step - loss: 0.5843 - accuracy: 0.6667\n",
      "Epoch 120/200\n",
      "1/1 [==============================] - 0s 2ms/step - loss: 0.5824 - accuracy: 0.6667\n",
      "Epoch 121/200\n",
      "1/1 [==============================] - 0s 2ms/step - loss: 0.5808 - accuracy: 0.6667\n",
      "Epoch 122/200\n",
      "1/1 [==============================] - 0s 2ms/step - loss: 0.5792 - accuracy: 0.6667\n",
      "Epoch 123/200\n",
      "1/1 [==============================] - 0s 2ms/step - loss: 0.5775 - accuracy: 0.6667\n",
      "Epoch 124/200\n",
      "1/1 [==============================] - 0s 3ms/step - loss: 0.5757 - accuracy: 0.6667\n",
      "Epoch 125/200\n",
      "1/1 [==============================] - 0s 2ms/step - loss: 0.5738 - accuracy: 0.6667\n",
      "Epoch 126/200\n",
      "1/1 [==============================] - 0s 2ms/step - loss: 0.5724 - accuracy: 0.6667\n",
      "Epoch 127/200\n",
      "1/1 [==============================] - 0s 3ms/step - loss: 0.5709 - accuracy: 0.6667\n",
      "Epoch 128/200\n",
      "1/1 [==============================] - 0s 3ms/step - loss: 0.5691 - accuracy: 0.6667\n",
      "Epoch 129/200\n",
      "1/1 [==============================] - 0s 2ms/step - loss: 0.5673 - accuracy: 0.6667\n",
      "Epoch 130/200\n",
      "1/1 [==============================] - 0s 2ms/step - loss: 0.5654 - accuracy: 0.6667\n",
      "Epoch 131/200\n",
      "1/1 [==============================] - 0s 2ms/step - loss: 0.5640 - accuracy: 0.6667\n",
      "Epoch 132/200\n",
      "1/1 [==============================] - 0s 2ms/step - loss: 0.5623 - accuracy: 0.6667\n",
      "Epoch 133/200\n",
      "1/1 [==============================] - 0s 2ms/step - loss: 0.5606 - accuracy: 0.6667\n",
      "Epoch 134/200\n",
      "1/1 [==============================] - 0s 2ms/step - loss: 0.5588 - accuracy: 0.6667\n",
      "Epoch 135/200\n",
      "1/1 [==============================] - 0s 2ms/step - loss: 0.5571 - accuracy: 0.6667\n",
      "Epoch 136/200\n",
      "1/1 [==============================] - 0s 4ms/step - loss: 0.5558 - accuracy: 0.6667\n",
      "Epoch 137/200\n",
      "1/1 [==============================] - 0s 3ms/step - loss: 0.5540 - accuracy: 0.6667\n",
      "Epoch 138/200\n",
      "1/1 [==============================] - 0s 3ms/step - loss: 0.5523 - accuracy: 0.6667\n",
      "Epoch 139/200\n",
      "1/1 [==============================] - 0s 2ms/step - loss: 0.5511 - accuracy: 0.6667\n",
      "Epoch 140/200\n",
      "1/1 [==============================] - 0s 2ms/step - loss: 0.5498 - accuracy: 0.6667\n",
      "Epoch 141/200\n",
      "1/1 [==============================] - 0s 2ms/step - loss: 0.5486 - accuracy: 0.6667\n",
      "Epoch 142/200\n",
      "1/1 [==============================] - 0s 3ms/step - loss: 0.5472 - accuracy: 0.6667\n",
      "Epoch 143/200\n",
      "1/1 [==============================] - 0s 2ms/step - loss: 0.5459 - accuracy: 0.6667\n",
      "Epoch 144/200\n",
      "1/1 [==============================] - 0s 4ms/step - loss: 0.5444 - accuracy: 0.6667\n",
      "Epoch 145/200\n",
      "1/1 [==============================] - 0s 4ms/step - loss: 0.5429 - accuracy: 0.6667\n",
      "Epoch 146/200\n",
      "1/1 [==============================] - 0s 2ms/step - loss: 0.5417 - accuracy: 0.6667\n",
      "Epoch 147/200\n",
      "1/1 [==============================] - 0s 3ms/step - loss: 0.5407 - accuracy: 0.6667\n",
      "Epoch 148/200\n",
      "1/1 [==============================] - 0s 3ms/step - loss: 0.5395 - accuracy: 0.6667\n",
      "Epoch 149/200\n",
      "1/1 [==============================] - 0s 4ms/step - loss: 0.5383 - accuracy: 0.6667\n",
      "Epoch 150/200\n",
      "1/1 [==============================] - 0s 4ms/step - loss: 0.5371 - accuracy: 0.6667\n",
      "Epoch 151/200\n",
      "1/1 [==============================] - 0s 7ms/step - loss: 0.5356 - accuracy: 0.6667\n",
      "Epoch 152/200\n",
      "1/1 [==============================] - 0s 8ms/step - loss: 0.5343 - accuracy: 0.6667\n",
      "Epoch 153/200\n",
      "1/1 [==============================] - 0s 4ms/step - loss: 0.5327 - accuracy: 0.6667\n",
      "Epoch 154/200\n",
      "1/1 [==============================] - 0s 4ms/step - loss: 0.5309 - accuracy: 0.6667\n",
      "Epoch 155/200\n",
      "1/1 [==============================] - 0s 5ms/step - loss: 0.5289 - accuracy: 0.6667\n",
      "Epoch 156/200\n",
      "1/1 [==============================] - 0s 4ms/step - loss: 0.5267 - accuracy: 0.6667\n",
      "Epoch 157/200\n",
      "1/1 [==============================] - 0s 5ms/step - loss: 0.5243 - accuracy: 0.6667\n",
      "Epoch 158/200\n",
      "1/1 [==============================] - 0s 2ms/step - loss: 0.5206 - accuracy: 0.6667\n",
      "Epoch 159/200\n",
      "1/1 [==============================] - 0s 3ms/step - loss: 0.5139 - accuracy: 0.6667\n",
      "Epoch 160/200\n",
      "1/1 [==============================] - 0s 4ms/step - loss: 0.5068 - accuracy: 0.6667\n",
      "Epoch 161/200\n",
      "1/1 [==============================] - 0s 3ms/step - loss: 0.5042 - accuracy: 0.6667\n",
      "Epoch 162/200\n",
      "1/1 [==============================] - 0s 5ms/step - loss: 0.5047 - accuracy: 0.6667\n",
      "Epoch 163/200\n",
      "1/1 [==============================] - 0s 11ms/step - loss: 0.5048 - accuracy: 0.6667\n",
      "Epoch 164/200\n",
      "1/1 [==============================] - 0s 18ms/step - loss: 0.5045 - accuracy: 0.6667\n",
      "Epoch 165/200\n",
      "1/1 [==============================] - 0s 3ms/step - loss: 0.5036 - accuracy: 0.6667\n",
      "Epoch 166/200\n",
      "1/1 [==============================] - 0s 4ms/step - loss: 0.5021 - accuracy: 0.6667\n"
     ]
    },
    {
     "name": "stdout",
     "output_type": "stream",
     "text": [
      "Epoch 167/200\n",
      "1/1 [==============================] - 0s 5ms/step - loss: 0.4999 - accuracy: 0.6667\n",
      "Epoch 168/200\n",
      "1/1 [==============================] - 0s 3ms/step - loss: 0.4976 - accuracy: 0.6667\n",
      "Epoch 169/200\n",
      "1/1 [==============================] - 0s 3ms/step - loss: 0.4949 - accuracy: 0.6667\n",
      "Epoch 170/200\n",
      "1/1 [==============================] - 0s 3ms/step - loss: 0.4920 - accuracy: 0.6667\n",
      "Epoch 171/200\n",
      "1/1 [==============================] - 0s 3ms/step - loss: 0.4894 - accuracy: 0.6667\n",
      "Epoch 172/200\n",
      "1/1 [==============================] - 0s 2ms/step - loss: 0.4889 - accuracy: 0.6667\n",
      "Epoch 173/200\n",
      "1/1 [==============================] - 0s 2ms/step - loss: 0.4880 - accuracy: 0.6667\n",
      "Epoch 174/200\n",
      "1/1 [==============================] - 0s 2ms/step - loss: 0.4868 - accuracy: 0.6667\n",
      "Epoch 175/200\n",
      "1/1 [==============================] - 0s 2ms/step - loss: 0.4855 - accuracy: 0.6667\n",
      "Epoch 176/200\n",
      "1/1 [==============================] - 0s 2ms/step - loss: 0.4841 - accuracy: 0.6667\n",
      "Epoch 177/200\n",
      "1/1 [==============================] - 0s 2ms/step - loss: 0.4824 - accuracy: 0.6667\n",
      "Epoch 178/200\n",
      "1/1 [==============================] - 0s 2ms/step - loss: 0.4806 - accuracy: 0.6667\n",
      "Epoch 179/200\n",
      "1/1 [==============================] - 0s 2ms/step - loss: 0.4787 - accuracy: 0.6667\n",
      "Epoch 180/200\n",
      "1/1 [==============================] - 0s 2ms/step - loss: 0.4771 - accuracy: 0.6667\n",
      "Epoch 181/200\n",
      "1/1 [==============================] - 0s 2ms/step - loss: 0.4752 - accuracy: 0.6667\n",
      "Epoch 182/200\n",
      "1/1 [==============================] - 0s 3ms/step - loss: 0.4737 - accuracy: 0.6667\n",
      "Epoch 183/200\n",
      "1/1 [==============================] - 0s 3ms/step - loss: 0.4726 - accuracy: 0.6667\n",
      "Epoch 184/200\n",
      "1/1 [==============================] - 0s 2ms/step - loss: 0.4710 - accuracy: 0.6667\n",
      "Epoch 185/200\n",
      "1/1 [==============================] - 0s 3ms/step - loss: 0.4694 - accuracy: 0.6667\n",
      "Epoch 186/200\n",
      "1/1 [==============================] - 0s 3ms/step - loss: 0.4674 - accuracy: 0.6667\n",
      "Epoch 187/200\n",
      "1/1 [==============================] - 0s 3ms/step - loss: 0.4662 - accuracy: 0.6667\n",
      "Epoch 188/200\n",
      "1/1 [==============================] - 0s 4ms/step - loss: 0.4649 - accuracy: 0.6667\n",
      "Epoch 189/200\n",
      "1/1 [==============================] - 0s 3ms/step - loss: 0.4633 - accuracy: 0.6667\n",
      "Epoch 190/200\n",
      "1/1 [==============================] - 0s 8ms/step - loss: 0.4616 - accuracy: 0.6667\n",
      "Epoch 191/200\n",
      "1/1 [==============================] - 0s 5ms/step - loss: 0.4600 - accuracy: 0.6667\n",
      "Epoch 192/200\n",
      "1/1 [==============================] - 0s 4ms/step - loss: 0.4587 - accuracy: 0.6667\n",
      "Epoch 193/200\n",
      "1/1 [==============================] - 0s 7ms/step - loss: 0.4573 - accuracy: 0.6667\n",
      "Epoch 194/200\n",
      "1/1 [==============================] - 0s 2ms/step - loss: 0.4555 - accuracy: 0.6667\n",
      "Epoch 195/200\n",
      "1/1 [==============================] - 0s 2ms/step - loss: 0.4541 - accuracy: 0.6667\n",
      "Epoch 196/200\n",
      "1/1 [==============================] - 0s 3ms/step - loss: 0.4528 - accuracy: 0.6667\n",
      "Epoch 197/200\n",
      "1/1 [==============================] - 0s 3ms/step - loss: 0.4514 - accuracy: 0.6667\n",
      "Epoch 198/200\n",
      "1/1 [==============================] - 0s 2ms/step - loss: 0.4497 - accuracy: 0.6667\n",
      "Epoch 199/200\n",
      "1/1 [==============================] - 0s 4ms/step - loss: 0.4483 - accuracy: 0.6667\n",
      "Epoch 200/200\n",
      "1/1 [==============================] - 0s 3ms/step - loss: 0.4466 - accuracy: 0.6667\n",
      "WARNING:tensorflow:8 out of the last 9 calls to <function Model.make_test_function.<locals>.test_function at 0x7fdad65954c0> triggered tf.function retracing. Tracing is expensive and the excessive number of tracings could be due to (1) creating @tf.function repeatedly in a loop, (2) passing tensors with different shapes, (3) passing Python objects instead of tensors. For (1), please define your @tf.function outside of the loop. For (2), @tf.function has experimental_relax_shapes=True option that relaxes argument shapes that can avoid unnecessary retracing. For (3), please refer to https://www.tensorflow.org/guide/function#controlling_retracing and https://www.tensorflow.org/api_docs/python/tf/function for  more details.\n",
      "1/1 [==============================] - 0s 109ms/step - loss: 0.4452 - accuracy: 0.6667\n",
      "\n",
      "<Model Evaluation>\n",
      "Accuracy: 0.6667\n",
      "Error: 0.4452\n",
      "\n",
      "<Expectation Test>\n",
      "WARNING:tensorflow:7 out of the last 7 calls to <function Model.make_predict_function.<locals>.predict_function at 0x7fdad671a040> triggered tf.function retracing. Tracing is expensive and the excessive number of tracings could be due to (1) creating @tf.function repeatedly in a loop, (2) passing tensors with different shapes, (3) passing Python objects instead of tensors. For (1), please define your @tf.function outside of the loop. For (2), @tf.function has experimental_relax_shapes=True option that relaxes argument shapes that can avoid unnecessary retracing. For (3), please refer to https://www.tensorflow.org/guide/function#controlling_retracing and https://www.tensorflow.org/api_docs/python/tf/function for  more details.\n",
      "[[0.1852009 ]\n",
      " [0.2978966 ]\n",
      " [0.29132658]\n",
      " [0.43418813]\n",
      " [0.49793702]\n",
      " [0.21075112]]\n"
     ]
    }
   ],
   "source": [
    "import numpy as np\n",
    "\n",
    "from tensorflow.keras.models import Sequential\n",
    "from tensorflow.keras.layers import Dense\n",
    "\n",
    "model = Sequential()\n",
    "model.add( Dense(24, input_dim=2, activation='relu'))\n",
    "model.add( Dense(10, activation='relu')) \n",
    "#예측함수의 범위를 넓혀줘서 선형회귀나 로지스틱에 부합하지 않을때도 정확도를 높여준다.\n",
    "model.add( Dense(1, activation='sigmoid'))\n",
    "\n",
    "model.compile( loss='binary_crossentropy', optimizer='adam', metrics=['accuracy'])\n",
    "model.fit(X, Y, epochs=200, batch_size=6)\n",
    "\n",
    "result = model.evaluate(X, Y)\n",
    "print(\"\\n<Model Evaluation>\")\n",
    "print(\"Accuracy: %.4f\" % (result[1]))\n",
    "print(\"Error: %.4f\" % (result[0]))\n",
    "\n",
    "print(\"\\n<Expectation Test>\")\n",
    "output = model.predict( X )\n",
    "print( output )"
   ]
  },
  {
   "cell_type": "markdown",
   "id": "19d652de",
   "metadata": {},
   "source": [
    "라벨링을 직접 진행하지 않고 랜덤으로 합격 여부를 지정해서 낮은 정확도를 보인다."
   ]
  }
 ],
 "metadata": {
  "kernelspec": {
   "display_name": "Python 3",
   "language": "python",
   "name": "python3"
  },
  "language_info": {
   "codemirror_mode": {
    "name": "ipython",
    "version": 3
   },
   "file_extension": ".py",
   "mimetype": "text/x-python",
   "name": "python",
   "nbconvert_exporter": "python",
   "pygments_lexer": "ipython3",
   "version": "3.8.2"
  }
 },
 "nbformat": 4,
 "nbformat_minor": 5
}
